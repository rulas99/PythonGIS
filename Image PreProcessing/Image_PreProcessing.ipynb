{
  "nbformat": 4,
  "nbformat_minor": 0,
  "metadata": {
    "colab": {
      "name": "Image_PreProcessing.ipynb",
      "provenance": [],
      "collapsed_sections": [],
      "mount_file_id": "https://github.com/rulas99/PythonGIS/blob/master/Image%20PreProcessing/Image_PreProcessing.ipynb",
      "authorship_tag": "ABX9TyNCS3eCs76aopGlp3i1n8Hb",
      "include_colab_link": true
    },
    "kernelspec": {
      "name": "python3",
      "display_name": "Python 3"
    },
    "language_info": {
      "name": "python"
    }
  },
  "cells": [
    {
      "cell_type": "markdown",
      "metadata": {
        "id": "view-in-github",
        "colab_type": "text"
      },
      "source": [
        "<a href=\"https://colab.research.google.com/github/rulas99/PythonGIS/blob/master/Image%20PreProcessing/Image_PreProcessing.ipynb\" target=\"_parent\"><img src=\"https://colab.research.google.com/assets/colab-badge.svg\" alt=\"Open In Colab\"/></a>"
      ]
    },
    {
      "cell_type": "code",
      "metadata": {
        "id": "Ug-f6dzNbYMS"
      },
      "source": [
        "path = '/content/drive/MyDrive/Inge/Octavo/PR 2'"
      ],
      "execution_count": 1,
      "outputs": []
    },
    {
      "cell_type": "code",
      "metadata": {
        "id": "lu9wrtv_SHdW"
      },
      "source": [
        "! cp '/Correcciones/Image_PreProcessing/functions.py' ."
      ],
      "execution_count": 5,
      "outputs": []
    },
    {
      "cell_type": "code",
      "metadata": {
        "colab": {
          "base_uri": "https://localhost:8080/"
        },
        "id": "SAn-mHKuTsct",
        "outputId": "31ab8408-b941-45cf-bee8-dab7d12e3c1e"
      },
      "source": [
        "!pip install rasterio"
      ],
      "execution_count": 6,
      "outputs": [
        {
          "output_type": "stream",
          "name": "stdout",
          "text": [
            "Requirement already satisfied: rasterio in /usr/local/lib/python3.7/dist-packages (1.2.8)\n",
            "Requirement already satisfied: affine in /usr/local/lib/python3.7/dist-packages (from rasterio) (2.3.0)\n",
            "Requirement already satisfied: numpy in /usr/local/lib/python3.7/dist-packages (from rasterio) (1.19.5)\n",
            "Requirement already satisfied: click-plugins in /usr/local/lib/python3.7/dist-packages (from rasterio) (1.1.1)\n",
            "Requirement already satisfied: certifi in /usr/local/lib/python3.7/dist-packages (from rasterio) (2021.5.30)\n",
            "Requirement already satisfied: snuggs>=1.4.1 in /usr/local/lib/python3.7/dist-packages (from rasterio) (1.4.7)\n",
            "Requirement already satisfied: attrs in /usr/local/lib/python3.7/dist-packages (from rasterio) (21.2.0)\n",
            "Requirement already satisfied: setuptools in /usr/local/lib/python3.7/dist-packages (from rasterio) (57.4.0)\n",
            "Requirement already satisfied: click>=4.0 in /usr/local/lib/python3.7/dist-packages (from rasterio) (7.1.2)\n",
            "Requirement already satisfied: cligj>=0.5 in /usr/local/lib/python3.7/dist-packages (from rasterio) (0.7.2)\n",
            "Requirement already satisfied: pyparsing>=2.1.6 in /usr/local/lib/python3.7/dist-packages (from snuggs>=1.4.1->rasterio) (2.4.7)\n"
          ]
        }
      ]
    },
    {
      "cell_type": "code",
      "metadata": {
        "id": "fp5jxYOcSjH5"
      },
      "source": [
        "from glob import glob\n",
        "from functions import *"
      ],
      "execution_count": 7,
      "outputs": []
    },
    {
      "cell_type": "code",
      "metadata": {
        "id": "vQ5ZIxw5aZ1T"
      },
      "source": [
        "f=glob(f\"{path}/Correcciones/IMAGEN L8/*.TIF\") #Ruta de la carpeta que contiene tus imagenes L8 (separadas por banda)\n",
        "rutmtl=glob(f\"{path}/Correcciones/IMAGEN L8/*_MTL.txt\")[0] #Ruta del arhivo mtl correspondiente a las imagenes anteriores\n"
      ],
      "execution_count": 16,
      "outputs": []
    },
    {
      "cell_type": "code",
      "metadata": {
        "id": "jGldd0mrMhJU"
      },
      "source": [
        "for i in f:\n",
        "    b=i[:-4].split(\"_\")[-1]\n",
        "        \n",
        "    img=readImgAsMatrix(i)\n",
        "    dat=img[0]\n",
        "    img2=img[1]\n",
        "    \n",
        "    del img\n",
        "    \n",
        "    mtl=readMtl(rutmtl)\n",
        "\n",
        "    try:\n",
        "        #rad=cofRadiance(mtl,b[1:])\n",
        "        ref=cofReflectance(mtl,b[1:])\n",
        "        \n",
        "        #datRad=toRadiance(dat,rad)\n",
        "        datRef=toReflectance(dat,ref)\n",
        "\n",
        "        #saveImg(\"/Users/rauldelarosa/Desktop/Octavo/PR2/act4/PreProcesadas/Rad_{}\".format(b),datRad,img2)\n",
        "        saveImg(\"{}/Correcciones/Outputs/Ref_{}.TIF\".format(path,b),datRef,img2)\n",
        "\n",
        "        del datRef, dat, img2 #,datRad\n",
        "    except:\n",
        "        pass\n",
        "    "
      ],
      "execution_count": 18,
      "outputs": []
    },
    {
      "cell_type": "code",
      "metadata": {
        "id": "cX-7N5l9dcw9"
      },
      "source": [
        ""
      ],
      "execution_count": null,
      "outputs": []
    }
  ]
}