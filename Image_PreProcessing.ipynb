{
  "nbformat": 4,
  "nbformat_minor": 0,
  "metadata": {
    "colab": {
      "name": "Image_PreProcessing.ipynb",
      "provenance": [],
      "mount_file_id": "1v7PD8ooIUVidT-bYCS4Ve92FUaFJSH6b",
      "authorship_tag": "ABX9TyO+scQnGKj7UgBOVe/QiBMD",
      "include_colab_link": true
    },
    "kernelspec": {
      "name": "python3",
      "display_name": "Python 3"
    },
    "language_info": {
      "name": "python"
    }
  },
  "cells": [
    {
      "cell_type": "markdown",
      "metadata": {
        "id": "view-in-github",
        "colab_type": "text"
      },
      "source": [
        "<a href=\"https://colab.research.google.com/github/rulas99/PythonGIS/blob/master/Image_PreProcessing.ipynb\" target=\"_parent\"><img src=\"https://colab.research.google.com/assets/colab-badge.svg\" alt=\"Open In Colab\"/></a>"
      ]
    },
    {
      "cell_type": "code",
      "metadata": {
        "id": "thFz1ZViHArP"
      },
      "source": [
        "from glob import glob\n",
        "from json import load"
      ],
      "execution_count": 2,
      "outputs": []
    },
    {
      "cell_type": "code",
      "metadata": {
        "id": "9OaWqs9CLAvd"
      },
      "source": [
        "with open('/content/drive/MyDrive/Inge/Octavo/PR 2/Correcciones/LT05_L1TP_026047_20090202_20200828_02_T1/LT05_L1TP_026047_20090202_20200828_02_T1_MTL.json') as f:\n",
        "  mtl = load(f)"
      ],
      "execution_count": 12,
      "outputs": []
    },
    {
      "cell_type": "code",
      "metadata": {
        "id": "5OhNHglQMAp3"
      },
      "source": [
        "checkRad = mtl['LANDSAT_METADATA_FILE']['LEVEL1_MIN_MAX_RADIANCE']\n",
        "checkRef = mtl['LANDSAT_METADATA_FILE']['LEVEL1_MIN_MAX_REFLECTANCE']"
      ],
      "execution_count": 21,
      "outputs": []
    },
    {
      "cell_type": "code",
      "metadata": {
        "id": "Lb7siR2KLYGf"
      },
      "source": [
        "rescaleVals = mtl['LANDSAT_METADATA_FILE']['LEVEL1_RADIOMETRIC_RESCALING']"
      ],
      "execution_count": 22,
      "outputs": []
    },
    {
      "cell_type": "code",
      "metadata": {
        "id": "KvxHt7IUMn5V"
      },
      "source": [
        "b=1"
      ],
      "execution_count": 25,
      "outputs": []
    },
    {
      "cell_type": "code",
      "metadata": {
        "colab": {
          "base_uri": "https://localhost:8080/"
        },
        "id": "nJGE4MjfLid6",
        "outputId": "deec7ce3-7cf6-44ad-d2d6-b6f7c5eed774"
      },
      "source": [
        "float(rescaleVals[f'RADIANCE_ADD_BAND_{b}'])"
      ],
      "execution_count": 27,
      "outputs": [
        {
          "output_type": "execute_result",
          "data": {
            "text/plain": [
              "-2.28583"
            ]
          },
          "metadata": {},
          "execution_count": 27
        }
      ]
    },
    {
      "cell_type": "code",
      "metadata": {
        "id": "jGldd0mrMhJU"
      },
      "source": [
        ""
      ],
      "execution_count": null,
      "outputs": []
    }
  ]
}