{
  "nbformat": 4,
  "nbformat_minor": 0,
  "metadata": {
    "colab": {
      "name": "Image_PreProcessing.ipynb",
      "provenance": [],
      "collapsed_sections": [],
      "mount_file_id": "1v7PD8ooIUVidT-bYCS4Ve92FUaFJSH6b",
      "authorship_tag": "ABX9TyN62A9pDIgnearS5C0XFF0/",
      "include_colab_link": true
    },
    "kernelspec": {
      "name": "python3",
      "display_name": "Python 3"
    },
    "language_info": {
      "name": "python"
    }
  },
  "cells": [
    {
      "cell_type": "markdown",
      "metadata": {
        "id": "view-in-github",
        "colab_type": "text"
      },
      "source": [
        "<a href=\"https://colab.research.google.com/github/rulas99/PythonGIS/blob/master/Image_PreProcessing.ipynb\" target=\"_parent\"><img src=\"https://colab.research.google.com/assets/colab-badge.svg\" alt=\"Open In Colab\"/></a>"
      ]
    },
    {
      "cell_type": "code",
      "metadata": {
        "id": "lu9wrtv_SHdW"
      },
      "source": [
        "! cp '/content/drive/MyDrive/Inge/Octavo/PR 2/Correcciones/Image_PreProcessing/functions.py' ."
      ],
      "execution_count": 42,
      "outputs": []
    },
    {
      "cell_type": "code",
      "metadata": {
        "colab": {
          "base_uri": "https://localhost:8080/"
        },
        "id": "SAn-mHKuTsct",
        "outputId": "18141860-2fe4-4628-eacf-40932831e109"
      },
      "source": [
        "!pip install rasterio"
      ],
      "execution_count": 44,
      "outputs": [
        {
          "output_type": "stream",
          "name": "stdout",
          "text": [
            "Collecting rasterio\n",
            "  Downloading rasterio-1.2.8-cp37-cp37m-manylinux1_x86_64.whl (19.3 MB)\n",
            "\u001b[K     |████████████████████████████████| 19.3 MB 1.3 MB/s \n",
            "\u001b[?25hRequirement already satisfied: click>=4.0 in /usr/local/lib/python3.7/dist-packages (from rasterio) (7.1.2)\n",
            "Requirement already satisfied: certifi in /usr/local/lib/python3.7/dist-packages (from rasterio) (2021.5.30)\n",
            "Requirement already satisfied: setuptools in /usr/local/lib/python3.7/dist-packages (from rasterio) (57.4.0)\n",
            "Collecting cligj>=0.5\n",
            "  Downloading cligj-0.7.2-py3-none-any.whl (7.1 kB)\n",
            "Collecting affine\n",
            "  Downloading affine-2.3.0-py2.py3-none-any.whl (15 kB)\n",
            "Requirement already satisfied: attrs in /usr/local/lib/python3.7/dist-packages (from rasterio) (21.2.0)\n",
            "Collecting snuggs>=1.4.1\n",
            "  Downloading snuggs-1.4.7-py3-none-any.whl (5.4 kB)\n",
            "Collecting click-plugins\n",
            "  Downloading click_plugins-1.1.1-py2.py3-none-any.whl (7.5 kB)\n",
            "Requirement already satisfied: numpy in /usr/local/lib/python3.7/dist-packages (from rasterio) (1.19.5)\n",
            "Requirement already satisfied: pyparsing>=2.1.6 in /usr/local/lib/python3.7/dist-packages (from snuggs>=1.4.1->rasterio) (2.4.7)\n",
            "Installing collected packages: snuggs, cligj, click-plugins, affine, rasterio\n",
            "Successfully installed affine-2.3.0 click-plugins-1.1.1 cligj-0.7.2 rasterio-1.2.8 snuggs-1.4.7\n"
          ]
        }
      ]
    },
    {
      "cell_type": "code",
      "metadata": {
        "id": "fp5jxYOcSjH5"
      },
      "source": [
        "from glob import glob\n",
        "from functions import *"
      ],
      "execution_count": 45,
      "outputs": []
    },
    {
      "cell_type": "code",
      "metadata": {
        "id": "jGldd0mrMhJU"
      },
      "source": [
        "f=glob(\"/content/drive/MyDrive/Inge/Octavo/PR 2/Correcciones/IMAGEN L8/*.TIF\") #Ruta de la carpeta que contiene tus imagenes L8 (separadas por banda)\n",
        "rutmtl=glob(\"/content/drive/MyDrive/Inge/Octavo/PR 2/Correcciones/IMAGEN L8/*_MTL.txt\")[0] #Ruta del arhivo mtl correspondiente a las imagenes anteriores\n",
        "\n",
        "for i in f:\n",
        "    b=i[:-4].split(\"_\")[-1]\n",
        "        \n",
        "    img=readImgAsMatrix(i)\n",
        "    dat=img[0]\n",
        "    img2=img[1]\n",
        "    \n",
        "    del img\n",
        "    \n",
        "    mtl=readMtl(rutmtl)\n",
        "\n",
        "    try:\n",
        "        #rad=cofRadiance(mtl,b[1:])\n",
        "        ref=cofReflectance(mtl,b[1:])\n",
        "        \n",
        "        #datRad=toRadiance(dat,rad)\n",
        "        datRef=toReflectance(dat,ref)\n",
        "\n",
        "        #saveImg(\"/Users/rauldelarosa/Desktop/Octavo/PR2/act4/PreProcesadas/Rad_{}\".format(b),datRad,img2)\n",
        "        saveImg(\"/content/drive/MyDrive/Inge/Octavo/PR 2/Correcciones/Outputs/Ref_{}.TIF\".format(b),datRef,img2)\n",
        "\n",
        "        del datRef, dat, img2 #,datRad\n",
        "    except:\n",
        "        pass\n",
        "    "
      ],
      "execution_count": 46,
      "outputs": []
    },
    {
      "cell_type": "code",
      "metadata": {
        "id": "ITdm4nc4U3xn"
      },
      "source": [
        ""
      ],
      "execution_count": null,
      "outputs": []
    }
  ]
}